{
 "cells": [
  {
   "cell_type": "markdown",
   "id": "4a9bf674",
   "metadata": {},
   "source": [
    "# PyBleau Advanced Visualization Demo\n",
    "\n",
    "This notebook demonstrates the various visualization capabilities of PyBleau, a Python library for creating Tableau-style visualizations."
   ]
  },
  {
   "cell_type": "code",
   "execution_count": null,
   "id": "a024deb2",
   "metadata": {},
   "outputs": [],
   "source": [
    "import pandas as pd\n",
    "import numpy as np\n",
    "from pybleau.viz import TableauViz\n",
    "\n",
    "# Create a TableauViz instance\n",
    "viz = TableauViz()"
   ]
  },
  {
   "cell_type": "markdown",
   "id": "52c88e51",
   "metadata": {},
   "source": [
    "## Sample Data Generation\n",
    "\n",
    "First, let's create some sample data to use in our visualizations."
   ]
  },
  {
   "cell_type": "code",
   "execution_count": null,
   "id": "765b758b",
   "metadata": {},
   "outputs": [],
   "source": [
    "# Generate sample data\n",
    "np.random.seed(42)\n",
    "dates = pd.date_range('2023-01-01', periods=100)\n",
    "categories = ['A', 'B', 'C', 'D']\n",
    "regions = ['North', 'South', 'East', 'West']\n",
    "\n",
    "data = pd.DataFrame({\n",
    "    'date': np.repeat(dates, len(categories)),\n",
    "    'category': np.tile(categories, len(dates)),\n",
    "    'region': np.random.choice(regions, size=len(dates) * len(categories)),\n",
    "    'sales': np.random.normal(1000, 200, size=len(dates) * len(categories)),\n",
    "    'profit': np.random.normal(200, 50, size=len(dates) * len(categories)),\n",
    "    'units': np.random.randint(50, 150, size=len(dates) * len(categories)),\n",
    "    'target': np.random.normal(1100, 100, size=len(dates) * len(categories))\n",
    "})"
   ]
  },
  {
   "cell_type": "markdown",
   "id": "42dfddea",
   "metadata": {},
   "source": [
    "## 1. Bar Chart\n",
    "\n",
    "Let's start with a basic bar chart showing sales by category."
   ]
  },
  {
   "cell_type": "code",
   "execution_count": null,
   "id": "44955247",
   "metadata": {},
   "outputs": [],
   "source": [
    "bar_fig = viz.bar_chart(\n",
    "    data=data,\n",
    "    x='category',\n",
    "    y='sales',\n",
    "    title='Sales by Category',\n",
    "    color='region'\n",
    ")\n",
    "bar_fig.show()"
   ]
  },
  {
   "cell_type": "markdown",
   "id": "3b27cb0f",
   "metadata": {},
   "source": [
    "## 2. Line Chart\n",
    "\n",
    "Now let's create a line chart to show sales trends over time."
   ]
  },
  {
   "cell_type": "code",
   "execution_count": null,
   "id": "b3a433e5",
   "metadata": {},
   "outputs": [],
   "source": [
    "# Aggregate data by date\n",
    "daily_sales = data.groupby(['date', 'category'])['sales'].mean().reset_index()\n",
    "\n",
    "line_fig = viz.line_chart(\n",
    "    data=daily_sales,\n",
    "    x='date',\n",
    "    y='sales',\n",
    "    title='Sales Trend by Category',\n",
    "    color='category'\n",
    ")\n",
    "line_fig.show()"
   ]
  },
  {
   "cell_type": "markdown",
   "id": "4ae16837",
   "metadata": {},
   "source": [
    "## 3. Scatter Plot\n",
    "\n",
    "Let's create a scatter plot to explore the relationship between sales and profit."
   ]
  },
  {
   "cell_type": "code",
   "execution_count": null,
   "id": "e0e13a16",
   "metadata": {},
   "outputs": [],
   "source": [
    "scatter_fig = viz.scatter_plot(\n",
    "    data=data,\n",
    "    x='sales',\n",
    "    y='profit',\n",
    "    title='Sales vs Profit',\n",
    "    color='category',\n",
    "    size='units',\n",
    "    tooltip=['region']\n",
    ")\n",
    "scatter_fig.show()"
   ]
  },
  {
   "cell_type": "markdown",
   "id": "22281a1b",
   "metadata": {},
   "source": [
    "## 4. Pie Chart\n",
    "\n",
    "Let's create a pie chart showing the distribution of sales by region."
   ]
  },
  {
   "cell_type": "code",
   "execution_count": null,
   "id": "9c527063",
   "metadata": {},
   "outputs": [],
   "source": [
    "# Aggregate data by region\n",
    "region_sales = data.groupby('region')['sales'].sum().reset_index()\n",
    "\n",
    "pie_fig = viz.pie_chart(\n",
    "    data=region_sales,\n",
    "    values='sales',\n",
    "    names='region',\n",
    "    title='Sales Distribution by Region'\n",
    ")\n",
    "pie_fig.show()"
   ]
  },
  {
   "cell_type": "markdown",
   "id": "f25ce04b",
   "metadata": {},
   "source": [
    "## 5. Box Plot\n",
    "\n",
    "Let's create a box plot to show the distribution of sales across categories."
   ]
  },
  {
   "cell_type": "code",
   "execution_count": null,
   "id": "2d204a7c",
   "metadata": {},
   "outputs": [],
   "source": [
    "box_fig = viz.box_plot(\n",
    "    data=data,\n",
    "    x='category',\n",
    "    y='sales',\n",
    "    title='Sales Distribution by Category',\n",
    "    color='region'\n",
    ")\n",
    "box_fig.show()"
   ]
  },
  {
   "cell_type": "markdown",
   "id": "a6841af8",
   "metadata": {},
   "source": [
    "## 6. Heatmap\n",
    "\n",
    "Let's create a heatmap showing average sales by category and region."
   ]
  },
  {
   "cell_type": "code",
   "execution_count": null,
   "id": "4bd3882f",
   "metadata": {},
   "outputs": [],
   "source": [
    "# Aggregate data for heatmap\n",
    "heatmap_data = data.pivot_table(\n",
    "    values='sales',\n",
    "    index='category',\n",
    "    columns='region',\n",
    "    aggfunc='mean'\n",
    ").reset_index()\n",
    "\n",
    "heatmap_fig = viz.heatmap(\n",
    "    data=heatmap_data,\n",
    "    x='region',\n",
    "    y='category',\n",
    "    values='sales',\n",
    "    title='Average Sales by Category and Region'\n",
    ")\n",
    "heatmap_fig.show()"
   ]
  },
  {
   "cell_type": "markdown",
   "id": "1f1f8e87",
   "metadata": {},
   "source": [
    "## 7. Treemap\n",
    "\n",
    "Let's create a treemap showing the hierarchical breakdown of sales."
   ]
  },
  {
   "cell_type": "code",
   "execution_count": null,
   "id": "ac04122f",
   "metadata": {},
   "outputs": [],
   "source": [
    "treemap_fig = viz.treemap(\n",
    "    data=data,\n",
    "    path=['region', 'category'],\n",
    "    values='sales',\n",
    "    title='Sales Hierarchy by Region and Category',\n",
    "    color='sales'\n",
    ")\n",
    "treemap_fig.show()"
   ]
  },
  {
   "cell_type": "markdown",
   "id": "f89e02f7",
   "metadata": {},
   "source": [
    "## 8. Bubble Chart\n",
    "\n",
    "Let's create a bubble chart to show sales, profit, and units sold."
   ]
  },
  {
   "cell_type": "code",
   "execution_count": null,
   "id": "5f82d0c9",
   "metadata": {},
   "outputs": [],
   "source": [
    "bubble_fig = viz.bubble_chart(\n",
    "    data=data,\n",
    "    x='sales',\n",
    "    y='profit',\n",
    "    size='units',\n",
    "    title='Sales, Profit, and Units Analysis',\n",
    "    color='category',\n",
    "    tooltip=['region']\n",
    ")\n",
    "bubble_fig.show()"
   ]
  },
  {
   "cell_type": "markdown",
   "id": "2f7f2d4d",
   "metadata": {},
   "source": [
    "## 9. Area Chart\n",
    "\n",
    "Let's create an area chart showing cumulative sales over time."
   ]
  },
  {
   "cell_type": "code",
   "execution_count": null,
   "id": "d3206612",
   "metadata": {},
   "outputs": [],
   "source": [
    "area_fig = viz.area_chart(\n",
    "    data=daily_sales,\n",
    "    x='date',\n",
    "    y='sales',\n",
    "    title='Cumulative Sales by Category',\n",
    "    color='category'\n",
    ")\n",
    "area_fig.show()"
   ]
  },
  {
   "cell_type": "markdown",
   "id": "88d3f625",
   "metadata": {},
   "source": [
    "## 10. Funnel Chart\n",
    "\n",
    "Let's create a funnel chart showing the sales pipeline."
   ]
  },
  {
   "cell_type": "code",
   "execution_count": null,
   "id": "8a315ab3",
   "metadata": {},
   "outputs": [],
   "source": [
    "# Create funnel data\n",
    "funnel_data = pd.DataFrame({\n",
    "    'stage': ['Leads', 'Qualified', 'Proposal', 'Negotiation', 'Closed'],\n",
    "    'value': [1000, 750, 500, 300, 200]\n",
    "})\n",
    "\n",
    "funnel_fig = viz.funnel_chart(\n",
    "    data=funnel_data,\n",
    "    values='value',\n",
    "    stages='stage',\n",
    "    title='Sales Pipeline'\n",
    ")\n",
    "funnel_fig.show()"
   ]
  },
  {
   "cell_type": "markdown",
   "id": "0cb1c6e6",
   "metadata": {},
   "source": [
    "## 11. Bullet Chart\n",
    "\n",
    "Finally, let's create a bullet chart comparing actual sales against targets."
   ]
  },
  {
   "cell_type": "code",
   "execution_count": null,
   "id": "75e65551",
   "metadata": {},
   "outputs": [],
   "source": [
    "# Aggregate data for bullet chart\n",
    "bullet_data = data.groupby('category').agg({\n",
    "    'sales': 'mean',\n",
    "    'target': 'mean'\n",
    "}).reset_index()\n",
    "\n",
    "bullet_fig = viz.bullet_chart(\n",
    "    data=bullet_data,\n",
    "    measure='sales',\n",
    "    target='target',\n",
    "    title='Sales Performance vs Target'\n",
    ")\n",
    "bullet_fig.show()"
   ]
  }
 ],
 "metadata": {
  "kernelspec": {
   "display_name": "Python 3",
   "language": "python",
   "name": "python3"
  },
  "language_info": {
   "codemirror_mode": {
    "name": "ipython",
    "version": 3
   },
   "file_extension": ".py",
   "mimetype": "text/x-python",
   "name": "python",
   "nbconvert_exporter": "python",
   "pygments_lexer": "ipython3",
   "version": "3.8"
  }
 },
 "nbformat": 4,
 "nbformat_minor": 5
}
