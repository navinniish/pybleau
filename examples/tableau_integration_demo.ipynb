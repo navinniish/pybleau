{
 "cells": [
  {
   "cell_type": "markdown",
   "id": "cc2686c3",
   "metadata": {},
   "source": [
    "# PyBleau Tableau Integration Demo\n",
    "\n",
    "This notebook demonstrates how to interact with Tableau Server/Cloud using PyBleau's integration features. You'll learn how to:\n",
    "1. Authenticate with Tableau Server\n",
    "2. List available workbooks\n",
    "3. Get detailed workbook information\n",
    "4. Manage workbook sessions"
   ]
  },
  {
   "cell_type": "markdown",
   "id": "6b34552f",
   "metadata": {},
   "source": [
    "## 1. Authentication Setup\n",
    "\n",
    "First, we need to set up authentication using Personal Access Tokens. You'll need:\n",
    "- Tableau Server URL\n",
    "- Personal Access Token name\n",
    "- Personal Access Token secret\n",
    "- Site ID (optional, use empty string for default site)"
   ]
  },
  {
   "cell_type": "code",
   "execution_count": null,
   "id": "1a2d7a07",
   "metadata": {},
   "outputs": [],
   "source": [
    "from pybleau.auth import TableauClient\n",
    "from pybleau.workbooks import WorkbookManager\n",
    "\n",
    "# Replace these with your actual Tableau Server details\n",
    "SERVER_URL = \"https://your-tableau-server.com\"\n",
    "TOKEN_NAME = \"your_token_name\"\n",
    "TOKEN_SECRET = \"your_token_secret\"\n",
    "SITE_ID = \"\"  # Leave empty for default site\n",
    "\n",
    "# Create and authenticate the client\n",
    "client = TableauClient(\n",
    "    server_url=SERVER_URL,\n",
    "    token_name=TOKEN_NAME,\n",
    "    token_secret=TOKEN_SECRET,\n",
    "    site_id=SITE_ID\n",
    ")\n",
    "\n",
    "# Authenticate\n",
    "if client.authenticate():\n",
    "    print(\"Successfully authenticated with Tableau Server!\")\n",
    "else:\n",
    "    print(\"Authentication failed. Please check your credentials.\")"
   ]
  },
  {
   "cell_type": "markdown",
   "id": "900c1c37",
   "metadata": {},
   "source": [
    "## 2. List Available Workbooks\n",
    "\n",
    "Once authenticated, we can list all workbooks the user has access to:"
   ]
  },
  {
   "cell_type": "code",
   "execution_count": null,
   "id": "6212358e",
   "metadata": {},
   "outputs": [],
   "source": [
    "# Create a WorkbookManager instance\n",
    "workbook_mgr = WorkbookManager(client)\n",
    "\n",
    "# List all workbooks\n",
    "try:\n",
    "    workbooks = workbook_mgr.list_workbooks()\n",
    "    print(f\"Found {len(workbooks)} workbooks:\")\n",
    "    for wb in workbooks:\n",
    "        print(f\"- {wb.get('name', 'Unnamed')} (ID: {wb.get('id', 'Unknown')})\")\n",
    "except Exception as e:\n",
    "    print(f\"Error listing workbooks: {e}\")"
   ]
  },
  {
   "cell_type": "markdown",
   "id": "52d4e8f0",
   "metadata": {},
   "source": [
    "## 3. Get Detailed Workbook Information\n",
    "\n",
    "We can get detailed information about a specific workbook using its ID:"
   ]
  },
  {
   "cell_type": "code",
   "execution_count": null,
   "id": "0f2f1675",
   "metadata": {},
   "outputs": [],
   "source": [
    "# Replace with an actual workbook ID from the list above\n",
    "WORKBOOK_ID = \"your_workbook_id\"\n",
    "\n",
    "try:\n",
    "    workbook = workbook_mgr.get_workbook(WORKBOOK_ID)\n",
    "    print(\"Workbook Details:\")\n",
    "    print(f\"Name: {workbook.get('name', 'Unnamed')}\")\n",
    "    print(f\"Owner: {workbook.get('owner', {}).get('name', 'Unknown')}\")\n",
    "    print(f\"Project: {workbook.get('project', {}).get('name', 'Unknown')}\")\n",
    "    print(f\"Tags: {', '.join(workbook.get('tags', []))}\")\n",
    "    \n",
    "    # List views in the workbook\n",
    "    print(\"\\nViews:\")\n",
    "    for view in workbook.get('views', []):\n",
    "        print(f\"- {view.get('name', 'Unnamed View')}\")\n",
    "except ValueError as e:\n",
    "    print(f\"Error: {e}\")\n",
    "except Exception as e:\n",
    "    print(f\"Unexpected error: {e}\")"
   ]
  },
  {
   "cell_type": "markdown",
   "id": "82ee6e1b",
   "metadata": {},
   "source": [
    "## 4. Clean Up\n",
    "\n",
    "Always sign out when you're done to clean up the session:"
   ]
  },
  {
   "cell_type": "code",
   "execution_count": null,
   "id": "3def80c4",
   "metadata": {},
   "outputs": [],
   "source": [
    "if client.signout():\n",
    "    print(\"Successfully signed out!\")\n",
    "else:\n",
    "    print(\"Error during sign out.\")"
   ]
  },
  {
   "cell_type": "markdown",
   "id": "0ee2387f",
   "metadata": {},
   "source": [
    "## Additional Features\n",
    "\n",
    "PyBleau's Tableau integration supports:\n",
    "1. Authentication using Personal Access Tokens\n",
    "2. Listing and filtering workbooks\n",
    "3. Retrieving detailed workbook information\n",
    "4. Secure session management\n",
    "5. Error handling for common scenarios\n",
    "\n",
    "The integration uses Tableau's REST API version 3.8 and handles:\n",
    "- Authentication errors\n",
    "- Permission issues\n",
    "- Network-related errors\n",
    "- Data transformation from API responses"
   ]
  }
 ],
 "metadata": {
  "kernelspec": {
   "display_name": "Python 3",
   "language": "python",
   "name": "python3"
  },
  "language_info": {
   "codemirror_mode": {
    "name": "ipython",
    "version": 3
   },
   "file_extension": ".py",
   "mimetype": "text/x-python",
   "name": "python",
   "nbconvert_exporter": "python",
   "pygments_lexer": "ipython3",
   "version": "3.8"
  }
 },
 "nbformat": 4,
 "nbformat_minor": 5
}
